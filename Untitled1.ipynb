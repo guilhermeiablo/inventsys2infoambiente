{
 "cells": [
  {
   "cell_type": "code",
   "execution_count": 1,
   "metadata": {},
   "outputs": [
    {
     "name": "stdout",
     "output_type": "stream",
     "text": [
      "Informa usuário Inventsys: guilherme\n",
      "Informa senha Inventsys : ········\n"
     ]
    }
   ],
   "source": [
    "from getpass import getpass\n",
    "\n",
    "\n",
    "# Recolher usuário e senha para uso do API Inventsys\n",
    "usr = input('Informa usuário Inventsys: ')\n",
    "pwd = getpass('Informa senha Inventsys : ')"
   ]
  },
  {
   "cell_type": "code",
   "execution_count": 8,
   "metadata": {},
   "outputs": [
    {
     "name": "stdout",
     "output_type": "stream",
     "text": [
      "{\n",
      "    \"error\": \"err_input\",\n",
      "    \"message\": \"Você não informou o usuário ou email cadastrado\",\n",
      "    \"error_msg\": \"Você não informou o usuário ou email cadastrado\",\n",
      "    \"current_time\": \"2020-07-26T17:43:40+00:00\",\n",
      "    \"result\": \"error_perm\"\n",
      "}\n"
     ]
    }
   ],
   "source": [
    "import requests\n",
    "import json\n",
    "\n",
    "# Usar o requests para fazer login no API e receber o token para outros comandos REST\n",
    "url = 'http://api.inventsys.com.br/v4/login'\n",
    "payload = \"{\\n  \\\"username\\\": \\\"\" + usr + \"\\\",\\n  \\\"password\\\": \\\"\" + pwd + \"\\\",\\n \\\"client\\\":\\\"desktop\\\"}\"\n",
    "#payload = {\n",
    "#    'username': usr,\n",
    "#    'password': pwd\n",
    "#}\n",
    "headers = {\n",
    "  'Account': 'stesa',\n",
    "  'Content-Type': 'application/json',\n",
    "    \n",
    "}\n",
    "r = requests.request('POST', url, headers = headers, data = payload, allow_redirects=True)\n",
    "\n",
    "#Encontrar o item token dentro do json resposta ao request e depois opcionalmente plotá-lo\n",
    "#mytoken = r.json()['token']\n",
    "print(r.text)"
   ]
  },
  {
   "cell_type": "code",
   "execution_count": null,
   "metadata": {},
   "outputs": [],
   "source": []
  }
 ],
 "metadata": {
  "kernelspec": {
   "display_name": "miniEnv",
   "language": "python",
   "name": "minienv"
  },
  "language_info": {
   "codemirror_mode": {
    "name": "ipython",
    "version": 3
   },
   "file_extension": ".py",
   "mimetype": "text/x-python",
   "name": "python",
   "nbconvert_exporter": "python",
   "pygments_lexer": "ipython3",
   "version": "3.8.3"
  }
 },
 "nbformat": 4,
 "nbformat_minor": 4
}
