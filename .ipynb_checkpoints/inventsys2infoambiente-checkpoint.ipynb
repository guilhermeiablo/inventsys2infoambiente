{
 "cells": [
  {
   "cell_type": "code",
   "execution_count": 3,
   "metadata": {},
   "outputs": [
    {
     "name": "stdout",
     "output_type": "stream",
     "text": [
      "Informa usuário Inventsys: guilherme\n",
      "Informa senha Inventsys : ········\n"
     ]
    }
   ],
   "source": [
    "from getpass import getpass\n",
    "\n",
    "\n",
    "# Recolher usuário e senha para uso do API Inventsys\n",
    "usr = input('Informa usuário Inventsys: ')\n",
    "pwd = getpass('Informa senha Inventsys : ')"
   ]
  },
  {
   "cell_type": "code",
   "execution_count": 4,
   "metadata": {},
   "outputs": [
    {
     "name": "stdout",
     "output_type": "stream",
     "text": [
      "dbb6b0ddd8fafc9\n"
     ]
    }
   ],
   "source": [
    "import requests\n",
    "import json\n",
    "\n",
    "# Usar o requests para fazer login no API e receber o token para outros comandos REST\n",
    "url = 'https://api.inventsys.com.br/v4/login'\n",
    "payload = \"{\\n  \\\"username\\\": \\\"\" + usr + \"\\\",\\n  \\\"password\\\": \\\"\" + pwd + \"\\\"\\n}\"\n",
    "headers = {\n",
    "  'Account': 'stesa',\n",
    "  'Content-Type': 'application/json',\n",
    "    \n",
    "}\n",
    "r = requests.request('POST', url, headers = headers, data = payload, allow_redirects=False)\n",
    "\n",
    "#Encontrar o item token dentro do json resposta ao request e depois opcionalmente plotá-lo\n",
    "mytoken = r.json()['token']\n",
    "print(mytoken)"
   ]
  },
  {
   "cell_type": "code",
   "execution_count": 5,
   "metadata": {},
   "outputs": [],
   "source": [
    "#Enviar request GET para receber um json com todos os ativos do projeto escolhido\n",
    "payload = {}\n",
    "headers = {\n",
    "    \n",
    "  'Account': 'stesa',\n",
    "  'Token': mytoken,\n",
    "    \n",
    "}"
   ]
  },
  {
   "cell_type": "code",
   "execution_count": 6,
   "metadata": {},
   "outputs": [
    {
     "name": "stdout",
     "output_type": "stream",
     "text": [
      "10954\n"
     ]
    }
   ],
   "source": [
    "prjurl = 'https://api.inventsys.com.br/v4/projects'\n",
    "projetos = requests.request('GET', prjurl, headers=headers, data=payload, allow_redirects=False)\n",
    "#print(projetos.json()['projects'])\n",
    "lista=projetos.json()['projects']\n",
    "\n",
    "\n",
    "print(lista[0]['id'])"
   ]
  },
  {
   "cell_type": "code",
   "execution_count": 7,
   "metadata": {},
   "outputs": [
    {
     "name": "stdout",
     "output_type": "stream",
     "text": [
      "Informa ID do projeto no inventsys: \n"
     ]
    },
    {
     "data": {
      "application/vnd.jupyter.widget-view+json": {
       "model_id": "12b19e1edefb4e3eaa04bdd7cf8b6888",
       "version_major": 2,
       "version_minor": 0
      },
      "text/plain": [
       "Dropdown(description='Projeto:', index=14, options=('10954', '10956', '10961', '10916', '10753', '10969', '107…"
      ]
     },
     "metadata": {},
     "output_type": "display_data"
    },
    {
     "data": {
      "application/vnd.jupyter.widget-view+json": {
       "model_id": "efbdb16c83354bb7897cc00c121ab35a",
       "version_major": 2,
       "version_minor": 0
      },
      "text/plain": [
       "Button(description='Submeter', icon='check', style=ButtonStyle(), tooltip='Click me')"
      ]
     },
     "metadata": {},
     "output_type": "display_data"
    },
    {
     "data": {
      "application/vnd.jupyter.widget-view+json": {
       "model_id": "ed4769a548de4bec91d47a70c3206700",
       "version_major": 2,
       "version_minor": 0
      },
      "text/plain": [
       "Output()"
      ]
     },
     "metadata": {},
     "output_type": "display_data"
    },
    {
     "name": "stdout",
     "output_type": "stream",
     "text": [
      "[('1', '0', '9', '5', '4'), ('1', '0', '9', '5', '6'), ('1', '0', '9', '6', '1'), ('1', '0', '9', '1', '6'), ('1', '0', '7', '5', '3'), ('1', '0', '9', '6', '9'), ('1', '0', '7', '2', '4'), ('1', '0', '7', '8', '3'), ('1', '0', '9', '6', '8'), ('1', '0', '9', '2', '9'), ('1', '0', '9', '4', '9'), ('1', '0', '9', '6', '3'), ('1', '0', '9', '6', '5'), ('1', '0', '9', '2', '1'), ('1', '0', '7', '6', '2'), ('1', '0', '7', '3', '3'), ('1', '0', '8', '9', '3'), ('1', '0', '9', '5', '8'), ('1', '0', '9', '5', '3'), ('1', '0', '7', '6', '6'), ('1', '0', '7', '5', '8'), ('1', '0', '9', '5', '7'), ('1', '0', '8', '8', '3'), ('1', '0', '7', '2', '6'), ('1', '0', '9', '5', '9'), ('1', '0', '7', '7', '4'), ('1', '0', '9', '6', '0'), ('1', '0', '7', '4', '1'), ('1', '0', '9', '6', '2'), ('1', '0', '9', '6', '6')]\n",
      "10954\n",
      "('10954', '10956', '10961', '10916', '10753', '10969', '10724', '10783', '10968', '10929', '10949', '10963', '10965', '10921', '10762', '10733', '10893', '10958', '10953', '10766', '10758', '10957', '10883', '10726', '10959', '10774', '10960', '10741', '10962', '10966')\n"
     ]
    }
   ],
   "source": [
    "\n",
    "import ipywidgets as widgets\n",
    "from ipywidgets import interact\n",
    "\n",
    "\n",
    "variavelprj=\"\"\n",
    "listaprj=[]\n",
    "for i in range(0,len(projetos.json()['projects'])):\n",
    "    prj=(projetos.json()['projects'][i]['id'])\n",
    "    nome=(projetos.json()['projects'][i]['name'])\n",
    "    variavelprj=(str(prj))\n",
    "    listaprj.append(variavelprj)\n",
    "\n",
    "print('Informa ID do projeto no inventsys: ')\n",
    "\n",
    "menuprj = widgets.Dropdown(\n",
    "    options=listaprj,\n",
    "    value='10762',\n",
    "    description='Projeto:',\n",
    ")\n",
    "\n",
    "\n",
    "menuprj\n",
    "\n",
    "botaoprojeto=widgets.Button(\n",
    "    description='Submeter',\n",
    "    disabled=False,\n",
    "    button_style='', # 'success', 'info', 'warning', 'danger' or ''\n",
    "    tooltip='Click me',\n",
    "    icon='check'\n",
    ")\n",
    "\n",
    "\n",
    "outputprojeto = widgets.Output()\n",
    "\n",
    "display(menuprj, botaoprojeto, outputprojeto)\n",
    "outputprojeto\n",
    "projectid=''\n",
    "def on_button_clicked_prj(b):\n",
    "    global projectid\n",
    "    with outputprojeto:\n",
    "        projectid = menuprj.value\n",
    "        print('Projeto selecionado: '+projectid)\n",
    "        \n",
    "\n",
    "\n",
    "botaoprojeto.on_click(on_button_clicked_prj)\n",
    "pares=[]\n",
    "for i in range(0, len(listaprj)):\n",
    "    tulpa=tuple(listaprj[i])\n",
    "    pares.append(tulpa)\n",
    "print(pares)\n",
    "\n",
    "print(listaprj[0])\n",
    "print(tuple(listaprj))"
   ]
  },
  {
   "cell_type": "code",
   "execution_count": 8,
   "metadata": {},
   "outputs": [],
   "source": [
    "caturl = 'https://api.inventsys.com.br/v4/projects/'+projectid+'/categories'\n",
    "categorias = requests.request('GET', caturl, headers=headers, data=payload, allow_redirects=False)\n",
    "#print(categorias.json()['categories'])"
   ]
  },
  {
   "cell_type": "code",
   "execution_count": 9,
   "metadata": {},
   "outputs": [
    {
     "name": "stdout",
     "output_type": "stream",
     "text": [
      "Informa ID da categoria no inventsys: \n"
     ]
    },
    {
     "data": {
      "application/vnd.jupyter.widget-view+json": {
       "model_id": "04c1cc4a57ff43069c209c724db56df1",
       "version_major": 2,
       "version_minor": 0
      },
      "text/plain": [
       "Dropdown(description='Categoria:', options=('18278', '18284', '20685', '20686'), value='18278')"
      ]
     },
     "metadata": {},
     "output_type": "display_data"
    },
    {
     "data": {
      "application/vnd.jupyter.widget-view+json": {
       "model_id": "ba64f97a863744b892c11adab2c7e0e2",
       "version_major": 2,
       "version_minor": 0
      },
      "text/plain": [
       "Button(description='Submeter', icon='check', style=ButtonStyle(), tooltip='Click me')"
      ]
     },
     "metadata": {},
     "output_type": "display_data"
    },
    {
     "data": {
      "application/vnd.jupyter.widget-view+json": {
       "model_id": "2d8a24169f07480d8177d697f4d5fcd9",
       "version_major": 2,
       "version_minor": 0
      },
      "text/plain": [
       "Output()"
      ]
     },
     "metadata": {},
     "output_type": "display_data"
    }
   ],
   "source": [
    "catvariavel=\"\"\n",
    "catlista=[]\n",
    "for i in range(0,len(categorias.json()['categories'])):\n",
    "    cat=(categorias.json()['categories'][i]['id'])\n",
    "    nome=(categorias.json()['categories'][i]['name'])\n",
    "    catvariavel=(str(cat))\n",
    "    catlista.append(catvariavel)\n",
    "\n",
    "print('Informa ID da categoria no inventsys: ')\n",
    "menucat = widgets.Dropdown(\n",
    "    options=catlista,\n",
    "    value=catlista[0],\n",
    "    description='Categoria:',\n",
    ")\n",
    "\n",
    "\n",
    "menucat\n",
    "\n",
    "botaocat=widgets.Button(\n",
    "    description='Submeter',\n",
    "    disabled=False,\n",
    "    button_style='', # 'success', 'info', 'warning', 'danger' or ''\n",
    "    tooltip='Click me',\n",
    "    icon='check'\n",
    ")\n",
    "\n",
    "\n",
    "outputcat = widgets.Output()\n",
    "\n",
    "display(menucat, botaocat, outputcat)\n",
    "\n",
    "categoryid=''\n",
    "def on_button_clicked_cat(b):\n",
    "    global categoryid\n",
    "    with outputcat:\n",
    "        categoryid = menucat.value\n",
    "        print('Categoria selecionada: '+categoryid)\n",
    "\n",
    "botaocat.on_click(on_button_clicked_cat)"
   ]
  },
  {
   "cell_type": "code",
   "execution_count": 10,
   "metadata": {
    "scrolled": true
   },
   "outputs": [
    {
     "name": "stdout",
     "output_type": "stream",
     "text": [
      "[{'id': 300436, 'item_id_parent': None, 'reference': '', 'subreference1': 'CAMS/1', 'subreference2': 'CAMS/1', 'reference_alpha': None, 'reference_numeric': None, 'oid': 'CAMS/1', 'code': None, 'code_custom': None, 'name': '284', 'image': 'https://static.inventsys.com.br/278/thumb/f-3298886-200x200c.jpg', 'situations': [], 'project_id': 10762, 'project': {'id': 10762, 'name': 'Fauna EGR', 'color': None}, 'category_id': 20685, 'category': {'id': 20685, 'name': 'EGR FAUNA - Armadilhas'}, 'area_id': None, 'area': None, 'location': {'lat': -30.136699676514, 'lng': -50.910511016846, 'address': {'region': 'RS', 'city': 'Viamão', 'district': None, 'zipcode': None, 'street': 'Rodovia Tapir Rocha', 'street_number': None, 'desc': None, 'full': 'Rodovia Tapir Rocha Viamão / BR'}}, 'event_last': None, 'description': None, 'search_terms': 'CAMS/1 284 Fauna EGR EGR FAUNA - Armadilhas Rodovia Tapir Rocha Viamão / BR', 'info': [{'id': 42725, 'name': 'Observacoes', 'type': 'longtext', 'value': None, 'fvalue': None, 'description': None, 'ikey': None, 'group': 'Fauna EGR', 'preload': False, 'filling': False, 'primary': False, 'created': None}, {'id': 44542, 'name': 'Data de instalacao', 'type': 'date', 'value': None, 'fvalue': None, 'description': None, 'ikey': None, 'group': 'Fauna EGR', 'preload': False, 'filling': False, 'primary': False, 'created': None}, {'id': 44543, 'name': 'IDcartao', 'type': 'text', 'value': None, 'fvalue': None, 'description': None, 'ikey': None, 'group': 'Fauna EGR', 'preload': False, 'filling': False, 'primary': True, 'created': None}, {'id': 44544, 'name': 'IDcamera', 'type': 'text', 'value': None, 'fvalue': None, 'description': None, 'ikey': None, 'group': 'Fauna EGR', 'preload': False, 'filling': False, 'primary': False, 'created': None}, {'id': 44545, 'name': 'IDdobueiro', 'type': 'text', 'value': None, 'fvalue': None, 'description': None, 'ikey': None, 'group': 'Fauna EGR', 'preload': False, 'filling': False, 'primary': False, 'created': None}, {'id': 44546, 'name': 'Estrada', 'type': 'longtext', 'value': None, 'fvalue': None, 'description': None, 'ikey': None, 'group': 'Fauna EGR', 'preload': False, 'filling': False, 'primary': False, 'created': None}, {'id': 44547, 'name': 'Foto Armadilha', 'type': 'photo', 'value': None, 'fvalue': None, 'description': None, 'ikey': None, 'group': 'Fauna EGR', 'preload': False, 'filling': False, 'primary': False, 'created': None}, {'id': 44548, 'name': 'gps Latitude', 'type': 'text', 'value': None, 'fvalue': None, 'description': None, 'ikey': None, 'group': 'Fauna EGR', 'preload': False, 'filling': False, 'primary': False, 'created': None}, {'id': 44549, 'name': 'GPS Longitude', 'type': 'text', 'value': None, 'fvalue': None, 'description': None, 'ikey': None, 'group': 'Fauna EGR', 'preload': False, 'filling': False, 'primary': False, 'created': None}, {'id': 44550, 'name': 'gps Altitude', 'type': 'text', 'value': None, 'fvalue': None, 'description': None, 'ikey': None, 'group': 'Fauna EGR', 'preload': False, 'filling': False, 'primary': False, 'created': None}, {'id': 44551, 'name': 'gps Accuracy', 'type': 'text', 'value': None, 'fvalue': None, 'description': None, 'ikey': None, 'group': 'Fauna EGR', 'preload': False, 'filling': False, 'primary': False, 'created': None}], 'files': [{'id': 3298886, 'url_orig': 'https://static.inventsys.com.br/278/file/cf/cfe6c71f17.jpg', 'url_low': 'https://static.inventsys.com.br/278/thumb/f-3298886-200x200c.jpg', 'type': 'photo', 'format': 'jpg', 'size': 612533, 'orig_name': 'be55d87a-02c3-42c2-8558-8ba3bdbf95b6.jpg', 'description': None}, {'id': 3298887, 'url_orig': 'https://static.inventsys.com.br/278/file/e9/e9acadba9f.jpg', 'url_low': 'https://static.inventsys.com.br/278/thumb/f-3298887-200x200c.jpg', 'type': 'photo', 'format': 'jpg', 'size': 803885, 'orig_name': '8017fc30-c6e9-43d2-a762-04ff42179707.jpg', 'description': None}], 'nsubitems': None, 'nevents': '0', 'updated_at': '2020-02-13T17:54:34+00:00', 'created_at': '2019-10-01T15:37:45+00:00', 'deleted_at': None}, {'id': 300457, 'item_id_parent': None, 'reference': '', 'subreference1': 'CAMS/2', 'subreference2': 'CAMS/2', 'reference_alpha': None, 'reference_numeric': None, 'oid': 'CAMS/2', 'code': None, 'code_custom': None, 'name': '284', 'image': 'https://static.inventsys.com.br/278/thumb/f-3298939-200x200c.jpg', 'situations': [], 'project_id': 10762, 'project': {'id': 10762, 'name': 'Fauna EGR', 'color': None}, 'category_id': 20685, 'category': {'id': 20685, 'name': 'EGR FAUNA - Armadilhas'}, 'area_id': None, 'area': None, 'location': {'lat': -30.137237548828, 'lng': -50.90788269043, 'address': {'region': 'RS', 'city': 'Viamão', 'district': None, 'zipcode': None, 'street': 'Rodovia Tapir Rocha', 'street_number': None, 'desc': None, 'full': 'Rodovia Tapir Rocha Viamão / BR'}}, 'event_last': None, 'description': None, 'search_terms': 'CAMS/2 284 Fauna EGR EGR FAUNA - Armadilhas Rodovia Tapir Rocha Viamão / BR', 'info': [{'id': 42725, 'name': 'Observacoes', 'type': 'longtext', 'value': 'Ver observações no odk', 'fvalue': 'Ver observações no odk', 'description': None, 'ikey': None, 'group': 'Fauna EGR', 'preload': False, 'filling': False, 'primary': False, 'created': '2019-10-01T17:13:04+00:00'}, {'id': 44542, 'name': 'Data de instalacao', 'type': 'date', 'value': '2019-10-01', 'fvalue': '01/10/2019', 'description': None, 'ikey': None, 'group': 'Fauna EGR', 'preload': False, 'filling': False, 'primary': False, 'created': '2019-10-01T17:13:04+00:00'}, {'id': 44543, 'name': 'IDcartao', 'type': 'text', 'value': 'Ste 04', 'fvalue': 'Ste 04', 'description': None, 'ikey': None, 'group': 'Fauna EGR', 'preload': False, 'filling': False, 'primary': True, 'created': '2019-10-01T17:13:04+00:00'}, {'id': 44544, 'name': 'IDcamera', 'type': 'text', 'value': '1', 'fvalue': '1', 'description': None, 'ikey': None, 'group': 'Fauna EGR', 'preload': False, 'filling': False, 'primary': False, 'created': '2019-10-01T17:13:04+00:00'}, {'id': 44545, 'name': 'IDdobueiro', 'type': 'text', 'value': '284', 'fvalue': '284', 'description': None, 'ikey': None, 'group': 'Fauna EGR', 'preload': False, 'filling': False, 'primary': False, 'created': '2019-10-01T17:13:04+00:00'}, {'id': 44546, 'name': 'Estrada', 'type': 'longtext', 'value': 'Ers-040', 'fvalue': 'Ers-040', 'description': None, 'ikey': None, 'group': 'Fauna EGR', 'preload': False, 'filling': False, 'primary': False, 'created': '2019-10-01T17:13:04+00:00'}, {'id': 44547, 'name': 'Foto Armadilha', 'type': 'photo', 'value': '3298938', 'fvalue': '3298938', 'description': None, 'ikey': None, 'group': 'Fauna EGR', 'preload': False, 'filling': False, 'primary': False, 'created': '2019-10-01T17:13:04+00:00'}, {'id': 44548, 'name': 'gps Latitude', 'type': 'text', 'value': None, 'fvalue': None, 'description': None, 'ikey': None, 'group': 'Fauna EGR', 'preload': False, 'filling': False, 'primary': False, 'created': '2019-10-01T17:13:04+00:00'}, {'id': 44549, 'name': 'GPS Longitude', 'type': 'text', 'value': None, 'fvalue': None, 'description': None, 'ikey': None, 'group': 'Fauna EGR', 'preload': False, 'filling': False, 'primary': False, 'created': '2019-10-01T17:13:04+00:00'}, {'id': 44550, 'name': 'gps Altitude', 'type': 'text', 'value': None, 'fvalue': None, 'description': None, 'ikey': None, 'group': 'Fauna EGR', 'preload': False, 'filling': False, 'primary': False, 'created': '2019-10-01T17:13:04+00:00'}, {'id': 44551, 'name': 'gps Accuracy', 'type': 'text', 'value': None, 'fvalue': None, 'description': None, 'ikey': None, 'group': 'Fauna EGR', 'preload': False, 'filling': False, 'primary': False, 'created': '2019-10-01T17:13:04+00:00'}], 'files': [{'id': 3298939, 'url_orig': 'https://static.inventsys.com.br/278/file/cb/cb7c7aebac.jpg', 'url_low': 'https://static.inventsys.com.br/278/thumb/f-3298939-200x200c.jpg', 'type': 'photo', 'format': 'jpg', 'size': 1040359, 'orig_name': '12559f77-4c11-4fe1-8b86-ce299a8e3bb7.jpg', 'description': None}], 'nsubitems': None, 'nevents': '0', 'updated_at': '2020-02-13T17:54:34+00:00', 'created_at': '2019-10-01T17:13:04+00:00', 'deleted_at': None}, {'id': 300461, 'item_id_parent': None, 'reference': '', 'subreference1': 'CAMS/3', 'subreference2': 'CAMS/3', 'reference_alpha': None, 'reference_numeric': None, 'oid': 'CAMS/3', 'code': None, 'code_custom': None, 'name': '230', 'image': 'https://static.inventsys.com.br/278/thumb/f-3298952-200x200c.jpg', 'situations': [], 'project_id': 10762, 'project': {'id': 10762, 'name': 'Fauna EGR', 'color': None}, 'category_id': 20685, 'category': {'id': 20685, 'name': 'EGR FAUNA - Armadilhas'}, 'area_id': None, 'area': None, 'location': {'lat': -30.111806869507, 'lng': -50.788314819336, 'address': {'region': 'RS', 'city': 'Viamão', 'district': None, 'zipcode': None, 'street': 'Rodovia Tapir Rocha', 'street_number': None, 'desc': None, 'full': 'Rodovia Tapir Rocha Viamão / BR'}}, 'event_last': None, 'description': None, 'search_terms': 'CAMS/3 230 Fauna EGR EGR FAUNA - Armadilhas Rodovia Tapir Rocha Viamão / BR', 'info': [{'id': 42725, 'name': 'Observacoes', 'type': 'longtext', 'value': None, 'fvalue': None, 'description': None, 'ikey': None, 'group': 'Fauna EGR', 'preload': False, 'filling': False, 'primary': False, 'created': '2019-10-01T18:45:45+00:00'}, {'id': 44542, 'name': 'Data de instalacao', 'type': 'date', 'value': None, 'fvalue': None, 'description': None, 'ikey': None, 'group': 'Fauna EGR', 'preload': False, 'filling': False, 'primary': False, 'created': '2019-10-01T18:45:45+00:00'}, {'id': 44543, 'name': 'IDcartao', 'type': 'text', 'value': 'Ste 09', 'fvalue': 'Ste 09', 'description': None, 'ikey': None, 'group': 'Fauna EGR', 'preload': False, 'filling': False, 'primary': True, 'created': '2019-10-01T18:45:45+00:00'}, {'id': 44544, 'name': 'IDcamera', 'type': 'text', 'value': '2A', 'fvalue': '2A', 'description': None, 'ikey': None, 'group': 'Fauna EGR', 'preload': False, 'filling': False, 'primary': False, 'created': '2019-10-01T18:45:45+00:00'}, {'id': 44545, 'name': 'IDdobueiro', 'type': 'text', 'value': '230', 'fvalue': '230', 'description': None, 'ikey': None, 'group': 'Fauna EGR', 'preload': False, 'filling': False, 'primary': False, 'created': '2019-10-01T18:45:45+00:00'}, {'id': 44546, 'name': 'Estrada', 'type': 'longtext', 'value': 'Ers-040', 'fvalue': 'Ers-040', 'description': None, 'ikey': None, 'group': 'Fauna EGR', 'preload': False, 'filling': False, 'primary': False, 'created': '2019-10-01T18:45:45+00:00'}, {'id': 44547, 'name': 'Foto Armadilha', 'type': 'photo', 'value': '3298951', 'fvalue': '3298951', 'description': None, 'ikey': None, 'group': 'Fauna EGR', 'preload': False, 'filling': False, 'primary': False, 'created': '2019-10-01T18:45:45+00:00'}, {'id': 44548, 'name': 'gps Latitude', 'type': 'text', 'value': None, 'fvalue': None, 'description': None, 'ikey': None, 'group': 'Fauna EGR', 'preload': False, 'filling': False, 'primary': False, 'created': '2019-10-01T18:45:45+00:00'}, {'id': 44549, 'name': 'GPS Longitude', 'type': 'text', 'value': None, 'fvalue': None, 'description': None, 'ikey': None, 'group': 'Fauna EGR', 'preload': False, 'filling': False, 'primary': False, 'created': '2019-10-01T18:45:45+00:00'}, {'id': 44550, 'name': 'gps Altitude', 'type': 'text', 'value': None, 'fvalue': None, 'description': None, 'ikey': None, 'group': 'Fauna EGR', 'preload': False, 'filling': False, 'primary': False, 'created': '2019-10-01T18:45:45+00:00'}, {'id': 44551, 'name': 'gps Accuracy', 'type': 'text', 'value': None, 'fvalue': None, 'description': None, 'ikey': None, 'group': 'Fauna EGR', 'preload': False, 'filling': False, 'primary': False, 'created': '2019-10-01T18:45:45+00:00'}], 'files': [{'id': 3298952, 'url_orig': 'https://static.inventsys.com.br/278/file/4e/4e6ccf7769.jpg', 'url_low': 'https://static.inventsys.com.br/278/thumb/f-3298952-200x200c.jpg', 'type': 'photo', 'format': 'jpg', 'size': 637356, 'orig_name': '783ee07f-4069-4737-9df0-3d8d8d429786.jpg', 'description': None}, {'id': 3298953, 'url_orig': 'https://static.inventsys.com.br/278/file/8a/8ae2ba8e1b.jpg', 'url_low': 'https://static.inventsys.com.br/278/thumb/f-3298953-200x200c.jpg', 'type': 'photo', 'format': 'jpg', 'size': 639281, 'orig_name': '90b36d9c-0adb-4a06-97b8-cf0791d97e56.jpg', 'description': None}], 'nsubitems': None, 'nevents': '0', 'updated_at': '2020-02-13T17:54:34+00:00', 'created_at': '2019-10-01T18:45:45+00:00', 'deleted_at': None}, {'id': 300462, 'item_id_parent': None, 'reference': '', 'subreference1': 'CAMS/4', 'subreference2': 'CAMS/4', 'reference_alpha': None, 'reference_numeric': None, 'oid': 'CAMS/4', 'code': None, 'code_custom': None, 'name': '316', 'image': 'https://static.inventsys.com.br/278/thumb/f-3298955-200x200c.jpg', 'situations': [], 'project_id': 10762, 'project': {'id': 10762, 'name': 'Fauna EGR', 'color': None}, 'category_id': 20685, 'category': {'id': 20685, 'name': 'EGR FAUNA - Armadilhas'}, 'area_id': None, 'area': None, 'location': {'lat': -30.111806869507, 'lng': -50.788314819336, 'address': {'region': 'RS', 'city': 'Viamão', 'district': None, 'zipcode': None, 'street': 'Rodovia Tapir Rocha', 'street_number': None, 'desc': None, 'full': 'Rodovia Tapir Rocha Viamão / BR'}}, 'event_last': None, 'description': None, 'search_terms': 'CAMS/4 316 Fauna EGR EGR FAUNA - Armadilhas Rodovia Tapir Rocha Viamão / BR', 'info': [{'id': 42725, 'name': 'Observacoes', 'type': 'longtext', 'value': None, 'fvalue': None, 'description': None, 'ikey': None, 'group': 'Fauna EGR', 'preload': False, 'filling': False, 'primary': False, 'created': '2019-10-01T18:46:31+00:00'}, {'id': 44542, 'name': 'Data de instalacao', 'type': 'date', 'value': '2019-10-01', 'fvalue': '01/10/2019', 'description': None, 'ikey': None, 'group': 'Fauna EGR', 'preload': False, 'filling': False, 'primary': False, 'created': '2019-10-01T18:46:31+00:00'}, {'id': 44543, 'name': 'IDcartao', 'type': 'text', 'value': 'Ste 08', 'fvalue': 'Ste 08', 'description': None, 'ikey': None, 'group': 'Fauna EGR', 'preload': False, 'filling': False, 'primary': True, 'created': '2019-10-01T18:46:31+00:00'}, {'id': 44544, 'name': 'IDcamera', 'type': 'text', 'value': '8A', 'fvalue': '8A', 'description': None, 'ikey': None, 'group': 'Fauna EGR', 'preload': False, 'filling': False, 'primary': False, 'created': '2019-10-01T18:46:31+00:00'}, {'id': 44545, 'name': 'IDdobueiro', 'type': 'text', 'value': '316', 'fvalue': '316', 'description': None, 'ikey': None, 'group': 'Fauna EGR', 'preload': False, 'filling': False, 'primary': False, 'created': '2019-10-01T18:46:31+00:00'}, {'id': 44546, 'name': 'Estrada', 'type': 'longtext', 'value': 'Ers-040', 'fvalue': 'Ers-040', 'description': None, 'ikey': None, 'group': 'Fauna EGR', 'preload': False, 'filling': False, 'primary': False, 'created': '2019-10-01T18:46:31+00:00'}, {'id': 44547, 'name': 'Foto Armadilha', 'type': 'photo', 'value': '3298954', 'fvalue': '3298954', 'description': None, 'ikey': None, 'group': 'Fauna EGR', 'preload': False, 'filling': False, 'primary': False, 'created': '2019-10-01T18:46:31+00:00'}, {'id': 44548, 'name': 'gps Latitude', 'type': 'text', 'value': None, 'fvalue': None, 'description': None, 'ikey': None, 'group': 'Fauna EGR', 'preload': False, 'filling': False, 'primary': False, 'created': '2019-10-01T18:46:31+00:00'}, {'id': 44549, 'name': 'GPS Longitude', 'type': 'text', 'value': None, 'fvalue': None, 'description': None, 'ikey': None, 'group': 'Fauna EGR', 'preload': False, 'filling': False, 'primary': False, 'created': '2019-10-01T18:46:31+00:00'}, {'id': 44550, 'name': 'gps Altitude', 'type': 'text', 'value': None, 'fvalue': None, 'description': None, 'ikey': None, 'group': 'Fauna EGR', 'preload': False, 'filling': False, 'primary': False, 'created': '2019-10-01T18:46:31+00:00'}, {'id': 44551, 'name': 'gps Accuracy', 'type': 'text', 'value': None, 'fvalue': None, 'description': None, 'ikey': None, 'group': 'Fauna EGR', 'preload': False, 'filling': False, 'primary': False, 'created': '2019-10-01T18:46:31+00:00'}], 'files': [{'id': 3298955, 'url_orig': 'https://static.inventsys.com.br/278/file/ba/badeef64ec.jpg', 'url_low': 'https://static.inventsys.com.br/278/thumb/f-3298955-200x200c.jpg', 'type': 'photo', 'format': 'jpg', 'size': 231102, 'orig_name': '525f54f5-52d1-4c17-8fa7-602ec698e4e0.jpg', 'description': None}], 'nsubitems': None, 'nevents': '0', 'updated_at': '2020-02-13T17:54:34+00:00', 'created_at': '2019-10-01T18:46:31+00:00', 'deleted_at': None}, {'id': 300463, 'item_id_parent': None, 'reference': '', 'subreference1': 'CAMS/5', 'subreference2': 'CAMS/5', 'reference_alpha': None, 'reference_numeric': None, 'oid': 'CAMS/5', 'code': None, 'code_custom': None, 'name': '354', 'image': 'https://static.inventsys.com.br/278/thumb/f-3298957-200x200c.jpg', 'situations': [], 'project_id': 10762, 'project': {'id': 10762, 'name': 'Fauna EGR', 'color': None}, 'category_id': 20685, 'category': {'id': 20685, 'name': 'EGR FAUNA - Armadilhas'}, 'area_id': None, 'area': None, 'location': {'lat': -30.137237548828, 'lng': -50.90788269043, 'address': {'region': 'RS', 'city': 'Viamão', 'district': None, 'zipcode': None, 'street': 'Rodovia Tapir Rocha', 'street_number': None, 'desc': None, 'full': 'Rodovia Tapir Rocha Viamão / BR'}}, 'event_last': None, 'description': None, 'search_terms': 'CAMS/5 354 Fauna EGR EGR FAUNA - Armadilhas Rodovia Tapir Rocha Viamão / BR', 'info': [{'id': 42725, 'name': 'Observacoes', 'type': 'longtext', 'value': None, 'fvalue': None, 'description': None, 'ikey': None, 'group': 'Fauna EGR', 'preload': False, 'filling': False, 'primary': False, 'created': '2019-10-01T20:10:07+00:00'}, {'id': 44542, 'name': 'Data de instalacao', 'type': 'date', 'value': '2019-10-01', 'fvalue': '01/10/2019', 'description': None, 'ikey': None, 'group': 'Fauna EGR', 'preload': False, 'filling': False, 'primary': False, 'created': '2019-10-01T20:10:07+00:00'}, {'id': 44543, 'name': 'IDcartao', 'type': 'text', 'value': 'Ste 01', 'fvalue': 'Ste 01', 'description': None, 'ikey': None, 'group': 'Fauna EGR', 'preload': False, 'filling': False, 'primary': True, 'created': '2019-10-01T20:10:07+00:00'}, {'id': 44544, 'name': 'IDcamera', 'type': 'text', 'value': '2', 'fvalue': '2', 'description': None, 'ikey': None, 'group': 'Fauna EGR', 'preload': False, 'filling': False, 'primary': False, 'created': '2019-10-01T20:10:07+00:00'}, {'id': 44545, 'name': 'IDdobueiro', 'type': 'text', 'value': '354', 'fvalue': '354', 'description': None, 'ikey': None, 'group': 'Fauna EGR', 'preload': False, 'filling': False, 'primary': False, 'created': '2019-10-01T20:10:07+00:00'}, {'id': 44546, 'name': 'Estrada', 'type': 'longtext', 'value': 'Ers-040', 'fvalue': 'Ers-040', 'description': None, 'ikey': None, 'group': 'Fauna EGR', 'preload': False, 'filling': False, 'primary': False, 'created': '2019-10-01T20:10:07+00:00'}, {'id': 44547, 'name': 'Foto Armadilha', 'type': 'photo', 'value': '3298956', 'fvalue': '3298956', 'description': None, 'ikey': None, 'group': 'Fauna EGR', 'preload': False, 'filling': False, 'primary': False, 'created': '2019-10-01T20:10:07+00:00'}, {'id': 44548, 'name': 'gps Latitude', 'type': 'text', 'value': None, 'fvalue': None, 'description': None, 'ikey': None, 'group': 'Fauna EGR', 'preload': False, 'filling': False, 'primary': False, 'created': '2019-10-01T20:10:07+00:00'}, {'id': 44549, 'name': 'GPS Longitude', 'type': 'text', 'value': None, 'fvalue': None, 'description': None, 'ikey': None, 'group': 'Fauna EGR', 'preload': False, 'filling': False, 'primary': False, 'created': '2019-10-01T20:10:07+00:00'}, {'id': 44550, 'name': 'gps Altitude', 'type': 'text', 'value': None, 'fvalue': None, 'description': None, 'ikey': None, 'group': 'Fauna EGR', 'preload': False, 'filling': False, 'primary': False, 'created': '2019-10-01T20:10:07+00:00'}, {'id': 44551, 'name': 'gps Accuracy', 'type': 'text', 'value': None, 'fvalue': None, 'description': None, 'ikey': None, 'group': 'Fauna EGR', 'preload': False, 'filling': False, 'primary': False, 'created': '2019-10-01T20:10:07+00:00'}], 'files': [{'id': 3298957, 'url_orig': 'https://static.inventsys.com.br/278/file/a1/a104db7b2f.jpg', 'url_low': 'https://static.inventsys.com.br/278/thumb/f-3298957-200x200c.jpg', 'type': 'photo', 'format': 'jpg', 'size': 381136, 'orig_name': 'cb681f4f-954a-4733-82fe-6f18a6ccf770.jpg', 'description': None}, {'id': 3298958, 'url_orig': 'https://static.inventsys.com.br/278/file/cc/cc2bcd18ba.jpg', 'url_low': 'https://static.inventsys.com.br/278/thumb/f-3298958-200x200c.jpg', 'type': 'photo', 'format': 'jpg', 'size': 506053, 'orig_name': 'fa84f5d5-fef3-4aac-bf8e-960df6b6e80f.jpg', 'description': None}], 'nsubitems': None, 'nevents': '0', 'updated_at': '2020-02-13T17:54:34+00:00', 'created_at': '2019-10-01T20:10:06+00:00', 'deleted_at': None}, {'id': 300466, 'item_id_parent': None, 'reference': '', 'subreference1': 'CAMS/6', 'subreference2': 'CAMS/6', 'reference_alpha': None, 'reference_numeric': None, 'oid': 'CAMS/6', 'code': None, 'code_custom': None, 'name': 'Fid264', 'image': 'https://static.inventsys.com.br/278/thumb/f-3298982-200x200c.jpg', 'situations': [], 'project_id': 10762, 'project': {'id': 10762, 'name': 'Fauna EGR', 'color': None}, 'category_id': 20685, 'category': {'id': 20685, 'name': 'EGR FAUNA - Armadilhas'}, 'area_id': None, 'area': None, 'location': {'lat': -30.155515670776, 'lng': -50.420509338379, 'address': {'region': 'RS', 'city': 'Capivari do Sul', 'district': None, 'zipcode': None, 'street': 'RS-040', 'street_number': 'km 74', 'desc': None, 'full': 'RS-040 km 74 Capivari do Sul / BR'}}, 'event_last': None, 'description': None, 'search_terms': 'CAMS/6 Fid264 Fauna EGR EGR FAUNA - Armadilhas RS-040 km 74 Capivari do Sul / BR', 'info': [{'id': 42725, 'name': 'Observacoes', 'type': 'longtext', 'value': 'Da lontrA - chumbar', 'fvalue': 'Da lontrA - chumbar', 'description': None, 'ikey': None, 'group': 'Fauna EGR', 'preload': False, 'filling': False, 'primary': False, 'created': '2019-10-01T21:43:11+00:00'}, {'id': 44542, 'name': 'Data de instalacao', 'type': 'date', 'value': '2019-10-01', 'fvalue': '01/10/2019', 'description': None, 'ikey': None, 'group': 'Fauna EGR', 'preload': False, 'filling': False, 'primary': False, 'created': '2019-10-01T21:43:11+00:00'}, {'id': 44543, 'name': 'IDcartao', 'type': 'text', 'value': '00', 'fvalue': '00', 'description': None, 'ikey': None, 'group': 'Fauna EGR', 'preload': False, 'filling': False, 'primary': True, 'created': '2019-10-01T21:43:11+00:00'}, {'id': 44544, 'name': 'IDcamera', 'type': 'text', 'value': '00', 'fvalue': '00', 'description': None, 'ikey': None, 'group': 'Fauna EGR', 'preload': False, 'filling': False, 'primary': False, 'created': '2019-10-01T21:43:11+00:00'}, {'id': 44545, 'name': 'IDdobueiro', 'type': 'text', 'value': '00', 'fvalue': '00', 'description': None, 'ikey': None, 'group': 'Fauna EGR', 'preload': False, 'filling': False, 'primary': False, 'created': '2019-10-01T21:43:11+00:00'}, {'id': 44546, 'name': 'Estrada', 'type': 'longtext', 'value': 'Ers040', 'fvalue': 'Ers040', 'description': None, 'ikey': None, 'group': 'Fauna EGR', 'preload': False, 'filling': False, 'primary': False, 'created': '2019-10-01T21:43:11+00:00'}, {'id': 44547, 'name': 'Foto Armadilha', 'type': 'photo', 'value': '3298980', 'fvalue': '3298980', 'description': None, 'ikey': None, 'group': 'Fauna EGR', 'preload': False, 'filling': False, 'primary': False, 'created': '2019-10-01T21:43:11+00:00'}, {'id': 44548, 'name': 'gps Latitude', 'type': 'text', 'value': None, 'fvalue': None, 'description': None, 'ikey': None, 'group': 'Fauna EGR', 'preload': False, 'filling': False, 'primary': False, 'created': '2019-10-01T21:43:11+00:00'}, {'id': 44549, 'name': 'GPS Longitude', 'type': 'text', 'value': None, 'fvalue': None, 'description': None, 'ikey': None, 'group': 'Fauna EGR', 'preload': False, 'filling': False, 'primary': False, 'created': '2019-10-01T21:43:11+00:00'}, {'id': 44550, 'name': 'gps Altitude', 'type': 'text', 'value': None, 'fvalue': None, 'description': None, 'ikey': None, 'group': 'Fauna EGR', 'preload': False, 'filling': False, 'primary': False, 'created': '2019-10-01T21:43:11+00:00'}, {'id': 44551, 'name': 'gps Accuracy', 'type': 'text', 'value': None, 'fvalue': None, 'description': None, 'ikey': None, 'group': 'Fauna EGR', 'preload': False, 'filling': False, 'primary': False, 'created': '2019-10-01T21:43:11+00:00'}], 'files': [{'id': 3298982, 'url_orig': 'https://static.inventsys.com.br/278/file/af/afb2de3357.jpg', 'url_low': 'https://static.inventsys.com.br/278/thumb/f-3298982-200x200c.jpg', 'type': 'photo', 'format': 'jpg', 'size': 378342, 'orig_name': '8aab3f33-c67a-43f3-99a6-40eb06e8fba6.jpg', 'description': None}], 'nsubitems': None, 'nevents': '0', 'updated_at': '2020-02-13T17:54:34+00:00', 'created_at': '2019-10-01T21:43:11+00:00', 'deleted_at': None}, {'id': 300467, 'item_id_parent': None, 'reference': '', 'subreference1': 'CAMS/7', 'subreference2': 'CAMS/7', 'reference_alpha': None, 'reference_numeric': None, 'oid': 'CAMS/7', 'code': None, 'code_custom': None, 'name': 'Fid221', 'image': 'https://static.inventsys.com.br/278/thumb/f-3298983-200x200c.jpg', 'situations': [], 'project_id': 10762, 'project': {'id': 10762, 'name': 'Fauna EGR', 'color': None}, 'category_id': 20685, 'category': {'id': 20685, 'name': 'EGR FAUNA - Armadilhas'}, 'area_id': None, 'area': None, 'location': {'lat': -30.155855178833, 'lng': -50.415325164795, 'address': {'region': 'RS', 'city': 'Capivari do Sul', 'district': None, 'zipcode': '95552-000', 'street': 'Rodovia Tapir Rocha', 'street_number': None, 'desc': None, 'full': 'Rodovia Tapir Rocha - 95552-000 Capivari do Sul / BR'}}, 'event_last': None, 'description': None, 'search_terms': 'CAMS/7 Fid221 Fauna EGR EGR FAUNA - Armadilhas Rodovia Tapir Rocha - 95552-000 Capivari do Sul / BR', 'info': [{'id': 42725, 'name': 'Observacoes', 'type': 'longtext', 'value': None, 'fvalue': None, 'description': None, 'ikey': None, 'group': 'Fauna EGR', 'preload': False, 'filling': False, 'primary': False, 'created': '2019-10-01T21:43:19+00:00'}, {'id': 44542, 'name': 'Data de instalacao', 'type': 'date', 'value': '2019-10-01', 'fvalue': '01/10/2019', 'description': None, 'ikey': None, 'group': 'Fauna EGR', 'preload': False, 'filling': False, 'primary': False, 'created': '2019-10-01T21:43:19+00:00'}, {'id': 44543, 'name': 'IDcartao', 'type': 'text', 'value': '2', 'fvalue': '2', 'description': None, 'ikey': None, 'group': 'Fauna EGR', 'preload': False, 'filling': False, 'primary': True, 'created': '2019-10-01T21:43:19+00:00'}, {'id': 44544, 'name': 'IDcamera', 'type': 'text', 'value': '4A', 'fvalue': '4A', 'description': None, 'ikey': None, 'group': 'Fauna EGR', 'preload': False, 'filling': False, 'primary': False, 'created': '2019-10-01T21:43:19+00:00'}, {'id': 44545, 'name': 'IDdobueiro', 'type': 'text', 'value': 'Fid221', 'fvalue': 'Fid221', 'description': None, 'ikey': None, 'group': 'Fauna EGR', 'preload': False, 'filling': False, 'primary': False, 'created': '2019-10-01T21:43:19+00:00'}, {'id': 44546, 'name': 'Estrada', 'type': 'longtext', 'value': 'ers040', 'fvalue': 'ers040', 'description': None, 'ikey': None, 'group': 'Fauna EGR', 'preload': False, 'filling': False, 'primary': False, 'created': '2019-10-01T21:43:19+00:00'}, {'id': 44547, 'name': 'Foto Armadilha', 'type': 'photo', 'value': '3298981', 'fvalue': '3298981', 'description': None, 'ikey': None, 'group': 'Fauna EGR', 'preload': False, 'filling': False, 'primary': False, 'created': '2019-10-01T21:43:19+00:00'}, {'id': 44548, 'name': 'gps Latitude', 'type': 'text', 'value': None, 'fvalue': None, 'description': None, 'ikey': None, 'group': 'Fauna EGR', 'preload': False, 'filling': False, 'primary': False, 'created': '2019-10-01T21:43:19+00:00'}, {'id': 44549, 'name': 'GPS Longitude', 'type': 'text', 'value': None, 'fvalue': None, 'description': None, 'ikey': None, 'group': 'Fauna EGR', 'preload': False, 'filling': False, 'primary': False, 'created': '2019-10-01T21:43:19+00:00'}, {'id': 44550, 'name': 'gps Altitude', 'type': 'text', 'value': None, 'fvalue': None, 'description': None, 'ikey': None, 'group': 'Fauna EGR', 'preload': False, 'filling': False, 'primary': False, 'created': '2019-10-01T21:43:19+00:00'}, {'id': 44551, 'name': 'gps Accuracy', 'type': 'text', 'value': None, 'fvalue': None, 'description': None, 'ikey': None, 'group': 'Fauna EGR', 'preload': False, 'filling': False, 'primary': False, 'created': '2019-10-01T21:43:19+00:00'}], 'files': [{'id': 3298983, 'url_orig': 'https://static.inventsys.com.br/278/file/a2/a2caa6a33f.jpg', 'url_low': 'https://static.inventsys.com.br/278/thumb/f-3298983-200x200c.jpg', 'type': 'photo', 'format': 'jpg', 'size': 499205, 'orig_name': '14875981-3971-4577-8d70-489c55fb9394.jpg', 'description': None}], 'nsubitems': None, 'nevents': '0', 'updated_at': '2020-02-13T17:54:34+00:00', 'created_at': '2019-10-01T21:43:19+00:00', 'deleted_at': None}]\n"
     ]
    }
   ],
   "source": [
    "page = 1\n",
    "registros = []\n",
    "while True:\n",
    "    try:\n",
    "        url = 'https://api.inventsys.com.br/v4/projects/'+projectid+'/items?category='+categoryid+'&pagesize=1&page='+str(page)\n",
    "        ativos = requests.request('GET', url, headers=headers, data=payload, allow_redirects=False)\n",
    "        \n",
    "        \n",
    "        \n",
    "                \n",
    "        #print(ativos.json()['items'])\n",
    "        registros = registros + ativos.json()['items']\n",
    "        \n",
    "        #Se quiser ver os dados estruturados na resposta completa:\n",
    "        #print(ativos.text)\n",
    "        \n",
    "        #Se quiser ver os headers:\n",
    "        #print(ativos.headers)\n",
    "    except HTTPError:\n",
    "        # handle HTTPError\n",
    "        logging.error('HTTPError')\n",
    "    # ... put any other Exception you need to handle here\n",
    "    except IndexError:\n",
    "        break\n",
    "    except Exception as e:\n",
    "        # for handle unknown exception\n",
    "        logging.error('Unknown exception')\n",
    "    else:\n",
    "        if len(ativos.json()['items'])==0:\n",
    "            break\n",
    "        else:\n",
    "            page += 1\n",
    "\n",
    "print(registros)"
   ]
  },
  {
   "cell_type": "code",
   "execution_count": 11,
   "metadata": {},
   "outputs": [],
   "source": [
    "#Escolha os campos que vao ser enviados para o Postgres\n",
    "\n",
    "#Puxar os 50 records mais recentes\n",
    "#urlptexto = 'https://api.inventsys.com.br/v4/projects/'+projectid+'/items?category='+categoryid+'&pagesize=1'\n",
    "#ativosemtexto = requests.request('GET', urlptexto, headers=headers, data=payload, allow_redirects=True)              \n",
    "#print(ativosemtexto.text)"
   ]
  },
  {
   "cell_type": "code",
   "execution_count": 45,
   "metadata": {},
   "outputs": [
    {
     "name": "stdout",
     "output_type": "stream",
     "text": [
      "Informa host (localhost): localhost\n",
      "Informa dbname (postgres): postgres\n",
      "Informa user (guilhermeiablonovski): guilhermeiablonovski\n",
      "Connecting to database->host=localhost dbname=postgres user=guilhermeiablonovski\n",
      "Connected!\n",
      "\n"
     ]
    }
   ],
   "source": [
    "import psycopg2\n",
    "from psycopg2 import sql\n",
    "\n",
    "#Abrir os trabalhos para trabalhar com Postgres. Criar conexão e cursor como base.\n",
    "#conn = psycopg2.connect(\"host=localhost dbname=postgres user=guilhermeiablonovski\")\n",
    "#cur = conn.cursor()\n",
    "\n",
    "\n",
    "\n",
    "hostinput = input('Informa host (localhost): ')\n",
    "dbnameinput = input('Informa dbname (postgres): ')\n",
    "userinput = input('Informa user (guilhermeiablonovski): ')\n",
    "\n",
    "\n",
    "#Define our connection string\n",
    "conn_string = \"host=\"+str(hostinput)+\" dbname=\"+str(dbnameinput)+\" user=\"+str(userinput)\n",
    " \n",
    "# print the connection string we will use to connect\n",
    "print('Connecting to database->%s' % (conn_string))\n",
    " \n",
    "# get a connection, if a connect cannot be made an exception will be raised here\n",
    "conn = psycopg2.connect(conn_string)\n",
    " \n",
    "# conn.cursor will return a cursor object, you can use this cursor to perform queries\n",
    "cur = conn.cursor()\n",
    "print('Connected!\\n')"
   ]
  },
  {
   "cell_type": "code",
   "execution_count": 15,
   "metadata": {},
   "outputs": [],
   "source": [
    "dropdbgenerica = \"\"\"CREATE EXTENSION IF NOT EXISTS postgis;\n",
    "DROP TABLE IF EXISTS {}\"\"\" \n",
    "\n",
    "\n",
    "createdbgenerica = \"\"\"CREATE UNLOGGED TABLE IF NOT EXISTS {}(\n",
    "id integer PRIMARY KEY,\n",
    "created_at DATE,\n",
    "updated_at DATE,\n",
    "name text,\n",
    "image text,\n",
    "project text,\n",
    "category_id integer,\n",
    "category_name text,\n",
    "latitude real,\n",
    "longitude real,\n",
    "geom geometry(Point, 4326)\n",
    ");\"\"\" \n",
    "\n",
    "nometabela=projectid+'_'+categoryid\n",
    "\n",
    "\n",
    "\n",
    "dbobracorrente = \"\"\"CREATE EXTENSION IF NOT EXISTS postgis;\n",
    "DROP TABLE IF EXISTS egrfauna_obracorrente;\n",
    "CREATE UNLOGGED TABLE IF NOT EXISTS egrfauna_obracorrente(\n",
    "id integer PRIMARY KEY,\n",
    "created_at DATE,\n",
    "updated_at DATE,\n",
    "name text,\n",
    "image text,\n",
    "project text,\n",
    "category_id integer,\n",
    "category_name text,\n",
    "latitude real,\n",
    "longitude real,\n",
    "tipo text,\n",
    "dimensao_passagem text,\n",
    "grau_obstrucao integer,\n",
    "natureza_obstrucao text,\n",
    "geom geometry(Point, 4326)\n",
    ");\"\"\" \n",
    "\n",
    "\n",
    "dbobraespecial = \"\"\"CREATE EXTENSION IF NOT EXISTS postgis;\n",
    "DROP TABLE IF EXISTS egrfauna_obraespecial;\n",
    "CREATE UNLOGGED TABLE IF NOT EXISTS egrfauna_obraespecial(\n",
    "id integer PRIMARY KEY,\n",
    "created_at DATE,\n",
    "updated_at DATE,\n",
    "name text,\n",
    "image text,\n",
    "project text,\n",
    "category_id integer,\n",
    "category_name text,\n",
    "latitude real,\n",
    "longitude real,\n",
    "tipo text,\n",
    "largura_passagem real,\n",
    "altura_passagem real,\n",
    "margem_seca text,\n",
    "grau_obstrucao text,\n",
    "natureza_obstrucao text,\n",
    "geom geometry(Point, 4326)\n",
    ");\"\"\" \n",
    "\n",
    "\n",
    "dbarmadilhas = \"\"\"CREATE EXTENSION IF NOT EXISTS postgis;\n",
    "DROP TABLE IF EXISTS egrfauna_armadilhas;\n",
    "CREATE UNLOGGED TABLE IF NOT EXISTS egrfauna_armadilhas(\n",
    "id integer PRIMARY KEY,\n",
    "created_at DATE,\n",
    "updated_at DATE,\n",
    "name text,\n",
    "image text,\n",
    "project text,\n",
    "category_id integer,\n",
    "category_name text,\n",
    "latitude real,\n",
    "longitude real,\n",
    "observacoes text,\n",
    "instalacao DATE,\n",
    "IDcartao text,\n",
    "IDcamera text,\n",
    "IDbueiro text,\n",
    "estrada text,\n",
    "foto_armadilha text,\n",
    "gps_lat real,\n",
    "gps_long real,\n",
    "gps_alt real,\n",
    "gps_acc real,\n",
    "geom geometry(Point, 4326)\n",
    ");\"\"\" \n",
    "    \n",
    "\n",
    "dbatropelamentos = \"\"\"CREATE EXTENSION IF NOT EXISTS postgis;\n",
    "DROP TABLE IF EXISTS egrfauna_atropelamentos;\n",
    "CREATE UNLOGGED TABLE IF NOT EXISTS egrfauna_atropelamentos(\n",
    "id integer PRIMARY KEY,\n",
    "created_at DATE,\n",
    "updated_at DATE,\n",
    "name text,\n",
    "image text,\n",
    "project text,\n",
    "category_id integer,\n",
    "category_name text,\n",
    "latitude real,\n",
    "longitude real,\n",
    "estrada text,\n",
    "grupo text,\n",
    "esp_mamifero text,\n",
    "esp_ave text,\n",
    "esp_reptil text,\n",
    "esp_anfibio text,\n",
    "esp_outro text,\n",
    "idade text,\n",
    "estado text,\n",
    "posicao text,\n",
    "id_etiqueta text,\n",
    "nome_comum text,\n",
    "sexo text,\n",
    "observacoes text,\n",
    "ponto_gps text,\n",
    "geom geometry(Point, 4326)\n",
    ");\"\"\"\n",
    "\n",
    "\n",
    "\n",
    "if categoryid=='20685':\n",
    "    cur.execute(dbarmadilhas)\n",
    "else:\n",
    "    if categoryid=='20686':\n",
    "        cur.execute(dbatropelamentos)\n",
    "    else:\n",
    "        if categoryid=='18278':\n",
    "            cur.execute(dbobraespecial)\n",
    "        else:\n",
    "            if categoryid=='18284':\n",
    "                cur.execute(dbobracorrente)\n",
    "            else:\n",
    "                cur.execute(sql.SQL(dropdbgenerica)\n",
    "                            .format(sql.Identifier(nometabela)))\n",
    "                cur.execute(sql.SQL(createdbgenerica)\n",
    "                            .format(sql.Identifier(nometabela)))\n",
    "\n",
    "conn.commit()"
   ]
  },
  {
   "cell_type": "code",
   "execution_count": 16,
   "metadata": {},
   "outputs": [
    {
     "name": "stdout",
     "output_type": "stream",
     "text": [
      ".\n",
      ".\n",
      ".\n",
      ".\n"
     ]
    }
   ],
   "source": [
    "categoriasegr={'18284', '18278', '20685', '20686'}\n",
    "    \n",
    "\n",
    "\n",
    "if categoryid not in categoriasegr:\n",
    "    for item in registros:\n",
    "        genericfields=[\n",
    "            item['id'],\n",
    "            item['created_at'],\n",
    "            item['updated_at'],\n",
    "            item['name'],\n",
    "            item['image'],\n",
    "            item['project']['name'],\n",
    "            item['category_id'],\n",
    "            item['category']['name'],\n",
    "            item['location']['lat'],\n",
    "            item['location']['lng']\n",
    "        ]\n",
    "        my_data=[field for field in genericfields]\n",
    "        cur.execute(sql.SQL(\"INSERT INTO {} VALUES (%s, %s, %s, %s, %s, %s, %s, %s, %s, %s)\").format(sql.Identifier(nometabela)),tuple(my_data))\n",
    "else:\n",
    "    print('.')\n",
    "    \n",
    "    \n",
    "if categoryid=='18284':\n",
    "        for item in registros:\n",
    "            obracorrentefields = [\n",
    "            item['id'],\n",
    "            item['created_at'],\n",
    "            item['updated_at'],\n",
    "            item['name'],\n",
    "            item['image'],\n",
    "            item['project']['name'],\n",
    "            item['category_id'],\n",
    "            item['category']['name'],\n",
    "            item['location']['lat'],\n",
    "            item['location']['lng'],\n",
    "            item['info'][0]['value'],\n",
    "            item['info'][1]['value'],\n",
    "            item['info'][2]['value'],\n",
    "            item['info'][3]['value']\n",
    "            ]\n",
    "            my_data = [field for field in obracorrentefields]\n",
    "            cur.execute(\"INSERT INTO egrfauna_obracorrente VALUES (%s, %s, %s, %s, %s, %s, %s, %s, %s, %s, %s, %s, %s, %s)\", tuple(my_data))\n",
    "else:\n",
    "    print('.')\n",
    "\n",
    "\n",
    "if categoryid=='18278':\n",
    "    for item in registros:\n",
    "        obraespecialfields = [\n",
    "        item['id'],\n",
    "        item['created_at'],\n",
    "        item['updated_at'],\n",
    "        item['name'],\n",
    "        item['image'],\n",
    "        item['project']['name'],\n",
    "        item['category_id'],\n",
    "        item['category']['name'],\n",
    "        item['location']['lat'],\n",
    "        item['location']['lng'],\n",
    "        item['info'][0]['value'],\n",
    "        item['info'][1]['value'],\n",
    "        item['info'][2]['value'],\n",
    "        item['info'][3]['value'],\n",
    "        item['info'][4]['value'],\n",
    "        item['info'][5]['value']\n",
    "        ]\n",
    "        my_data = [field for field in obraespecialfields]\n",
    "        cur.execute(\"INSERT INTO egrfauna_obraespecial VALUES (%s, %s, %s, %s, %s, %s, %s, %s, %s, %s, %s, %s, %s, %s, %s, %s)\", tuple(my_data))\n",
    "else:\n",
    "    print('.')\n",
    "\n",
    "\n",
    "\n",
    "if categoryid=='20685':\n",
    "    for item in registros:\n",
    "        armadilhafields = [\n",
    "        item['id'],\n",
    "        item['created_at'],\n",
    "        item['updated_at'],\n",
    "        item['name'],\n",
    "        item['image'],\n",
    "        item['project']['name'],\n",
    "        item['category_id'],\n",
    "        item['category']['name'],\n",
    "        item['location']['lat'],\n",
    "        item['location']['lng'],\n",
    "        item['info'][0]['value'],\n",
    "        item['info'][1]['value'],\n",
    "        item['info'][2]['value'],\n",
    "        item['info'][3]['value'],\n",
    "        item['info'][4]['value'],\n",
    "        item['info'][5]['value'],\n",
    "        item['info'][6]['value'],\n",
    "        item['info'][7]['value'],\n",
    "        item['info'][8]['value'],\n",
    "        item['info'][9]['value'],\n",
    "        item['info'][10]['value'],\n",
    "        ]\n",
    "        my_data = [field for field in armadilhafields]\n",
    "        cur.execute(\"INSERT INTO egrfauna_armadilhas VALUES (%s, %s, %s, %s, %s, %s, %s, %s, %s, %s, %s, %s, %s, %s, %s, %s, %s, %s, %s, %s, %s)\", tuple(my_data))\n",
    "else:\n",
    "        print('.')\n",
    "    \n",
    "if categoryid=='20686':\n",
    "    for item in registros:\n",
    "        atropelamentofields = [\n",
    "        item['id'],\n",
    "        item['created_at'],\n",
    "        item['updated_at'],\n",
    "        item['name'],\n",
    "        item['image'],\n",
    "        item['project']['name'],\n",
    "        item['category_id'],\n",
    "        item['category']['name'],\n",
    "        item['location']['lat'],\n",
    "        item['location']['lng'],\n",
    "        item['info'][0]['value'],\n",
    "        item['info'][1]['value'],\n",
    "        item['info'][2]['value'],\n",
    "        item['info'][3]['value'],\n",
    "        item['info'][4]['value'],\n",
    "        item['info'][5]['value'],\n",
    "        item['info'][6]['value'],\n",
    "        item['info'][7]['value'],\n",
    "        item['info'][8]['value'],\n",
    "        item['info'][9]['value'],\n",
    "        item['info'][10]['value'],\n",
    "        item['info'][11]['value'],\n",
    "        item['info'][12]['value'],\n",
    "        item['info'][13]['value'],\n",
    "        item['info'][14]['value']\n",
    "        ]\n",
    "        my_data = [field for field in atropelamentofields]\n",
    "        cur.execute(\"INSERT INTO egrfauna_atropelamentos VALUES (%s, %s, %s, %s, %s, %s, %s, %s, %s, %s, %s, %s, %s, %s, %s, %s, %s, %s, %s, %s, %s, %s, %s, %s, %s)\", tuple(my_data))\n",
    "else:\n",
    "    print('.')\n",
    "    \n",
    "conn.commit()\n",
    "    \n",
    "    \n",
    "    "
   ]
  },
  {
   "cell_type": "code",
   "execution_count": 17,
   "metadata": {},
   "outputs": [
    {
     "name": "stdout",
     "output_type": "stream",
     "text": [
      ".\n",
      ".\n",
      ".\n",
      ".\n"
     ]
    }
   ],
   "source": [
    " \n",
    "\n",
    "\n",
    "if categoryid not in categoriasegr:\n",
    "    cur.execute(sql.SQL(\"UPDATE {} SET geom = ST_SetSRID(ST_MakePoint(longitude, latitude), 4326); CREATE INDEX sp_index ON {} USING GIST(geom)\").format(sql.Identifier(nometabela)))\n",
    "else:\n",
    "    print('.')\n",
    "    \n",
    "    \n",
    "if categoryid=='18284':\n",
    "        cur.execute(\"UPDATE egrfauna_obracorrente SET geom = ST_SetSRID(ST_MakePoint(longitude, latitude), 4326); CREATE INDEX sp_index ON egrfauna_obracorrente USING GIST(geom)\")\n",
    "else:\n",
    "    print('.')\n",
    "\n",
    "\n",
    "if categoryid=='18278':\n",
    "    cur.execute(\"UPDATE egrfauna_obraespecial SET geom = ST_SetSRID(ST_MakePoint(longitude, latitude), 4326); CREATE INDEX sp_index ON egrfauna_obraespecial USING GIST(geom)\")\n",
    "else:\n",
    "    print('.')\n",
    "\n",
    "\n",
    "\n",
    "if categoryid=='20685':\n",
    "    cur.execute(\"UPDATE egrfauna_armadilhas SET geom = ST_SetSRID(ST_MakePoint(longitude, latitude), 4326); CREATE INDEX sp_index ON egrfauna_armadilhas USING GIST(geom)\")\n",
    "else:\n",
    "        print('.')\n",
    "    \n",
    "if categoryid=='20686':\n",
    "    cur.execute(\"UPDATE egrfauna_atropelamentos SET geom = ST_SetSRID(ST_MakePoint(longitude, latitude), 4326); CREATE INDEX sp_index ON egrfauna_atropelamentos USING GIST(geom)\")\n",
    "else:\n",
    "    print('.')\n",
    "    \n",
    "conn.commit()\n",
    "    \n",
    "    "
   ]
  },
  {
   "cell_type": "code",
   "execution_count": 49,
   "metadata": {},
   "outputs": [
    {
     "ename": "InFailedSqlTransaction",
     "evalue": "current transaction is aborted, commands ignored until end of transaction block\n",
     "output_type": "error",
     "traceback": [
      "\u001b[0;31m---------------------------------------------------------------------------\u001b[0m",
      "\u001b[0;31mInFailedSqlTransaction\u001b[0m                    Traceback (most recent call last)",
      "\u001b[0;32m<ipython-input-49-ff6cf9f7acb1>\u001b[0m in \u001b[0;36m<module>\u001b[0;34m\u001b[0m\n\u001b[1;32m      5\u001b[0m );\"\"\" \n\u001b[1;32m      6\u001b[0m \u001b[0;34m\u001b[0m\u001b[0m\n\u001b[0;32m----> 7\u001b[0;31m \u001b[0mcur\u001b[0m\u001b[0;34m.\u001b[0m\u001b[0mexecute\u001b[0m\u001b[0;34m(\u001b[0m\u001b[0mdbsegmentos\u001b[0m\u001b[0;34m)\u001b[0m\u001b[0;34m\u001b[0m\u001b[0;34m\u001b[0m\u001b[0m\n\u001b[0m\u001b[1;32m      8\u001b[0m \u001b[0mconn\u001b[0m\u001b[0;34m.\u001b[0m\u001b[0mcommit\u001b[0m\u001b[0;34m(\u001b[0m\u001b[0;34m)\u001b[0m\u001b[0;34m\u001b[0m\u001b[0;34m\u001b[0m\u001b[0m\n",
      "\u001b[0;31mInFailedSqlTransaction\u001b[0m: current transaction is aborted, commands ignored until end of transaction block\n"
     ]
    }
   ],
   "source": [
    "dbsegmentos = \"\"\"DROP TABLE IF EXISTS egrfauna_segmentos;\n",
    "CREATE UNLOGGED TABLE IF NOT EXISTS egrfauna_segmentos(\n",
    "nome TEXT PRIMARY KEY,\n",
    "geom geometry(MultiPolygon, 4326)\n",
    ");\"\"\" \n",
    "\n",
    "cur.execute(dbsegmentos)\n",
    "conn.commit()"
   ]
  },
  {
   "cell_type": "code",
   "execution_count": 47,
   "metadata": {},
   "outputs": [],
   "source": [
    "segmentos=requests.get('https://raw.githubusercontent.com/guilhermeiablo/inventsys2infoambiente/master/dados/ERS_segmentos_rodoviarios.geojson')\n",
    "\n"
   ]
  },
  {
   "cell_type": "code",
   "execution_count": 48,
   "metadata": {},
   "outputs": [
    {
     "ename": "InvalidParameterValue",
     "evalue": "Geometry type (MultiPolygon) does not match column type (Polygon)\n",
     "output_type": "error",
     "traceback": [
      "\u001b[0;31m---------------------------------------------------------------------------\u001b[0m",
      "\u001b[0;31mInvalidParameterValue\u001b[0m                     Traceback (most recent call last)",
      "\u001b[0;32m<ipython-input-48-c535c44954d7>\u001b[0m in \u001b[0;36m<module>\u001b[0;34m\u001b[0m\n\u001b[1;32m      2\u001b[0m     \u001b[0mgeom\u001b[0m \u001b[0;34m=\u001b[0m \u001b[0;34m(\u001b[0m\u001b[0mjson\u001b[0m\u001b[0;34m.\u001b[0m\u001b[0mdumps\u001b[0m\u001b[0;34m(\u001b[0m\u001b[0mfeature\u001b[0m\u001b[0;34m[\u001b[0m\u001b[0;34m'geometry'\u001b[0m\u001b[0;34m]\u001b[0m\u001b[0;34m)\u001b[0m\u001b[0;34m)\u001b[0m\u001b[0;34m\u001b[0m\u001b[0;34m\u001b[0m\u001b[0m\n\u001b[1;32m      3\u001b[0m     \u001b[0mnome\u001b[0m\u001b[0;34m=\u001b[0m\u001b[0mfeature\u001b[0m\u001b[0;34m[\u001b[0m\u001b[0;34m'properties'\u001b[0m\u001b[0;34m]\u001b[0m\u001b[0;34m[\u001b[0m\u001b[0;34m'nome'\u001b[0m\u001b[0;34m]\u001b[0m\u001b[0;34m\u001b[0m\u001b[0;34m\u001b[0m\u001b[0m\n\u001b[0;32m----> 4\u001b[0;31m     \u001b[0mcur\u001b[0m\u001b[0;34m.\u001b[0m\u001b[0mexecute\u001b[0m\u001b[0;34m(\u001b[0m\u001b[0;34m\"INSERT INTO egrfauna_segmentos (nome, geom) VALUES (%s, ST_SetSRID(ST_GeomFromGeoJSON(%s), 4326))\"\u001b[0m\u001b[0;34m,\u001b[0m \u001b[0;34m(\u001b[0m\u001b[0mnome\u001b[0m\u001b[0;34m,\u001b[0m \u001b[0mgeom\u001b[0m\u001b[0;34m)\u001b[0m\u001b[0;34m)\u001b[0m\u001b[0;34m\u001b[0m\u001b[0;34m\u001b[0m\u001b[0m\n\u001b[0m\u001b[1;32m      5\u001b[0m \u001b[0;34m\u001b[0m\u001b[0m\n\u001b[1;32m      6\u001b[0m \u001b[0;34m\u001b[0m\u001b[0m\n",
      "\u001b[0;31mInvalidParameterValue\u001b[0m: Geometry type (MultiPolygon) does not match column type (Polygon)\n"
     ]
    }
   ],
   "source": [
    "\n",
    "for feature in segmentos.json()['features']:\n",
    "    geom = (json.dumps(feature['geometry']))\n",
    "    nome=feature['properties']['nome']\n",
    "    cur.execute(\"INSERT INTO egrfauna_segmentos (nome, geom) VALUES (%s, ST_SetSRID(ST_GeomFromGeoJSON(%s), 4326))\", (nome, geom))\n",
    "\n",
    "\n",
    "conn.commit()"
   ]
  },
  {
   "cell_type": "code",
   "execution_count": null,
   "metadata": {},
   "outputs": [],
   "source": []
  }
 ],
 "metadata": {
  "kernelspec": {
   "display_name": "Python 3",
   "language": "python",
   "name": "python3"
  },
  "language_info": {
   "codemirror_mode": {
    "name": "ipython",
    "version": 3
   },
   "file_extension": ".py",
   "mimetype": "text/x-python",
   "name": "python",
   "nbconvert_exporter": "python",
   "pygments_lexer": "ipython3",
   "version": "3.7.6"
  }
 },
 "nbformat": 4,
 "nbformat_minor": 2
}
