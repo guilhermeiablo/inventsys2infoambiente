{
 "cells": [
  {
   "cell_type": "code",
   "execution_count": 1,
   "metadata": {},
   "outputs": [
    {
     "name": "stdout",
     "output_type": "stream",
     "text": [
      "Informa usuário Inventsys: guilherme\n",
      "Informa senha Inventsys : ········\n"
     ]
    }
   ],
   "source": [
    "from getpass import getpass\n",
    "\n",
    "\n",
    "# Recolher usuário e senha para uso do API Inventsys\n",
    "usr = input('Informa usuário Inventsys: ')\n",
    "pwd = getpass('Informa senha Inventsys : ')"
   ]
  },
  {
   "cell_type": "code",
   "execution_count": 2,
   "metadata": {},
   "outputs": [],
   "source": [
    "import requests\n",
    "\n",
    "# Usar o requests para fazer login no API e receber o token para outros comandos REST\n",
    "url = 'https://api.inventsys.com.br/v4/login'\n",
    "payload = \"{\\n  \\\"username\\\": \\\"\" + usr + \"\\\",\\n  \\\"password\\\": \\\"\" + pwd + \"\\\"\\n}\"\n",
    "headers = {\n",
    "  'Account': 'stesa',\n",
    "  'Content-Type': 'application/json'\n",
    "}\n",
    "r = requests.request('POST', url, headers = headers, data = payload, allow_redirects=False)\n",
    "\n",
    "#Encontrar o item token dentro do json resposta ao request e depois opcionalmente plotá-lo\n",
    "mytoken = r.json()['token']\n",
    "#print(mytoken)"
   ]
  },
  {
   "cell_type": "code",
   "execution_count": 9,
   "metadata": {},
   "outputs": [
    {
     "name": "stdout",
     "output_type": "stream",
     "text": [
      "Informa ID do projeto no Inventsys (10762): 10762\n",
      "ok\n"
     ]
    }
   ],
   "source": [
    "#Recolher o ID do projeto no Inventsys. 10762 é EGR FAUNA\n",
    "projectid = input('Informa ID do projeto no Inventsys (10762): ')\n",
    "\n",
    "#Enviar request GET para receber um json com todos os ativos do projeto escolhido\n",
    "url = 'https://api.inventsys.com.br/v4/projects/'+projectid+'/items'\n",
    "payload = {}\n",
    "headers = {\n",
    "  'Account': 'stesa',\n",
    "  'Token': mytoken\n",
    "}\n",
    "ativos = requests.request('GET', url, headers = headers, data = payload, allow_redirects=False)\n",
    "\n",
    "\n",
    "#Verifica valor do campo result dentro do json resultante do request pra ver se deu certo\n",
    "print(ativos.json()['result'])\n",
    "\n",
    "\n",
    "#Opcionalmente plotá-los\n",
    "#print(ativos.text)\n"
   ]
  },
  {
   "cell_type": "code",
   "execution_count": 8,
   "metadata": {},
   "outputs": [],
   "source": [
    "import psycopg2\n",
    "\n",
    "#Abrir os trabalhos para trabalhar com Postgres. Criar conexão e cursor como base.\n",
    "conn = psycopg2.connect(\"host=localhost dbname=postgres user=guilhermeiablonovski\")\n",
    "cur = conn.cursor()"
   ]
  },
  {
   "cell_type": "code",
   "execution_count": null,
   "metadata": {},
   "outputs": [],
   "source": [
    "cur.execute(\"\"\"\n",
    "CREATE TABLE IF NOT EXISTS users(\n",
    "id integer NOT NULL PRIMARY KEY,\n",
    "email text NOT NULL,\n",
    "name text NOT NULL,\n",
    "address text NOT NULL,\n",
    "algo varchar(45) NOT NULL DEFAULT '1')\n",
    "\"\"\")\n",
    "conn.commit()\n",
    "\n",
    "\n",
    "cur.execute(\"INSERT INTO users VALUES (%s, %s, %s, %s)\", (10, 'hello@dataquest.io', 'Some Name', '123 Fake St.'))\n",
    "\n",
    "conn.commit()"
   ]
  }
 ],
 "metadata": {
  "kernelspec": {
   "display_name": "Python 3",
   "language": "python",
   "name": "python3"
  },
  "language_info": {
   "codemirror_mode": {
    "name": "ipython",
    "version": 3
   },
   "file_extension": ".py",
   "mimetype": "text/x-python",
   "name": "python",
   "nbconvert_exporter": "python",
   "pygments_lexer": "ipython3",
   "version": "3.6.8"
  }
 },
 "nbformat": 4,
 "nbformat_minor": 2
}
